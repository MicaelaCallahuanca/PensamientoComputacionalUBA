{
 "cells": [
  {
   "cell_type": "code",
   "execution_count": 17,
   "metadata": {},
   "outputs": [
    {
     "name": "stdout",
     "output_type": "stream",
     "text": [
      "El n° ingresado es 5\n"
     ]
    }
   ],
   "source": [
    "'''\n",
    "1)Crear unprograma que le solicite al usuario un entero y lo imprima por pantalla.\n",
    " Recordá que podés usar las funciones input (para solicitar información) y print para mostrar\n",
    " información.\n",
    "'''\n",
    "num=int(input('Ingrese un n°:'))\n",
    "print('El n° ingresado es', num)\n"
   ]
  },
  {
   "cell_type": "code",
   "execution_count": 2,
   "metadata": {},
   "outputs": [
    {
     "name": "stdout",
     "output_type": "stream",
     "text": [
      "42\n"
     ]
    }
   ],
   "source": [
    "'''\n",
    "2)Crear un programa que le solicite al usuario dos números enteros y luego imprima por pantalla:\n",
    " ● lasumadeambosnúmeros\n",
    " ● larestadeambosnúmeros\n",
    " ● lamultiplicación de ambos números\n",
    " ● ladivisión entera de ambos números\n",
    " ● elresto\n",
    "'''\n",
    "num1=(input('Ingrese un primer n°:'))   #no le agregué el tipo de dato int porque sino no me tomaba los operadores\n",
    "num2=(input('Ingrese un segundo n°:'))\n",
    "operador=input('Ingrese un operador (+- * / // % ):')\n",
    "sumatoria=eval(num1+operador+num2)\n",
    "print(sumatoria)"
   ]
  },
  {
   "cell_type": "code",
   "execution_count": 3,
   "metadata": {},
   "outputs": [
    {
     "name": "stdout",
     "output_type": "stream",
     "text": [
      "El n° es par\n"
     ]
    }
   ],
   "source": [
    "'''\n",
    "3)Crear unprograma que le solicite al usuario un entero y determine si es par, mostrando por pantalla un\n",
    " mensaje que indique el resultado.\n",
    " Para determinar si un número es par o impar, se puede determinar con el uso del operador %, les\n",
    " dejamos a ustedes el cómo.\n",
    "'''\n",
    "\n",
    "numb = int(input('Ingrese un n°: '))     \n",
    "if numb % 2 != 0:\n",
    "    print('El n° es impar.')\n",
    "else:\n",
    "    print('El n° es par')"
   ]
  },
  {
   "cell_type": "code",
   "execution_count": 16,
   "metadata": {},
   "outputs": [
    {
     "name": "stdout",
     "output_type": "stream",
     "text": [
      "Usted tenía 26 años de edad\n"
     ]
    }
   ],
   "source": [
    "'''\n",
    "4)Escribir un programa que le pida a un usuario su año de nacimiento y otro año, y le diga qué edad tenía\n",
    " el usuario en el año ingresado.\n",
    "'''\n",
    "edad=int(input('Ingrese su año de nacimiento:'))\n",
    "anio=int(input('Ingrese un año cualquiera:'))\n",
    "edad_usuario= anio - edad\n",
    "print('Usted tenía',edad_usuario, 'años de edad')"
   ]
  },
  {
   "cell_type": "code",
   "execution_count": 3,
   "metadata": {},
   "outputs": [
    {
     "name": "stdout",
     "output_type": "stream",
     "text": [
      "El promedio de los números ingresados es: 0.2\n",
      "El promedio de los números ingresados es: 1.2\n",
      "El promedio de los números ingresados es: 2.4\n",
      "El promedio de los números ingresados es: 3.8\n",
      "El promedio de los números ingresados es: 4.8\n"
     ]
    }
   ],
   "source": [
    "'''\n",
    "5)Crear unprograma que le solicite al usuario 5 enteros y muestre por pantalla el promedio de ellos.\n",
    " Es muy común usar variables para acumular valores\n",
    "'''\n",
    "suma = 0\n",
    "numero=[]\n",
    "for i in range(5):\n",
    "    numero = int(input(\"Ingrese 5 n° enteros: \"))      #corregir código\n",
    "    suma += numero        \n",
    "    promedio = suma / 5\n",
    "    print(\"El promedio de los números ingresados es:\", promedio)"
   ]
  },
  {
   "cell_type": "markdown",
   "metadata": {},
   "source": [
    "FUNCIONES CON ENTEROS"
   ]
  },
  {
   "cell_type": "code",
   "execution_count": null,
   "metadata": {},
   "outputs": [],
   "source": [
    "'''\n",
    "6)Crear una función que reciba un número y muestre el anterior y el siguiente.\n",
    "'''\n",
    "    "
   ]
  },
  {
   "cell_type": "code",
   "execution_count": 6,
   "metadata": {},
   "outputs": [
    {
     "data": {
      "text/plain": [
       "'hola77'"
      ]
     },
     "execution_count": 6,
     "metadata": {},
     "output_type": "execute_result"
    }
   ],
   "source": [
    "'''\n",
    "7)Crear una función que una un string y un entero, ambos dentro de un string.\n",
    "'''\n",
    "def concat(string, entero):\n",
    "    union = string + str(entero)\n",
    "    return union\n",
    "concat('hola', 77)"
   ]
  },
  {
   "cell_type": "code",
   "execution_count": null,
   "metadata": {},
   "outputs": [],
   "source": [
    "'''\n",
    "8)Crear una función que reciba un entero y que retorne (devuelva) el resto y el cociente.\n",
    "'''"
   ]
  },
  {
   "cell_type": "markdown",
   "metadata": {},
   "source": [
    "CADENAS"
   ]
  },
  {
   "cell_type": "code",
   "execution_count": 6,
   "metadata": {},
   "outputs": [
    {
     "name": "stdout",
     "output_type": "stream",
     "text": [
      "holland,tom\n"
     ]
    }
   ],
   "source": [
    "'''\n",
    "9)Pedirle nombre y apellido por separado e imprimir “Apellido, Nombre”.\n",
    " Este proceso se llama concatenar cadenas.\n",
    "'''\n",
    "apellido=input('Ingrese su apellido:')\n",
    "nombre=input('Ingrese su nombre:')\n",
    "print(apellido + ', ' + nombre)\n"
   ]
  },
  {
   "cell_type": "code",
   "execution_count": 8,
   "metadata": {},
   "outputs": [
    {
     "name": "stdout",
     "output_type": "stream",
     "text": [
      "Tiene 11 letras\n"
     ]
    }
   ],
   "source": [
    "'''\n",
    "10)Obtener una palabra e imprimir la cantidad de letras.\n",
    "'''\n",
    "palabra=input('Ingrese una palabra:')\n",
    "print('Tiene',len(palabra),'letras') #ingrese la palabra computadora y me dijo que tiene 11 palabras"
   ]
  },
  {
   "cell_type": "code",
   "execution_count": 15,
   "metadata": {},
   "outputs": [
    {
     "name": "stdout",
     "output_type": "stream",
     "text": [
      "compu\n"
     ]
    }
   ],
   "source": [
    "'''\n",
    "11) Obtener una palabra e imprimir los primeros 5 caracteres (pista: slicear la palabra)\n",
    "'''\n",
    "#palabra.split()\n",
    "print(palabra[:5]) "
   ]
  },
  {
   "cell_type": "code",
   "execution_count": 11,
   "metadata": {},
   "outputs": [
    {
     "name": "stdout",
     "output_type": "stream",
     "text": [
      "computdor\n"
     ]
    }
   ],
   "source": [
    "'''\n",
    "12)Obtener una palabra, borrarle todas las ‘a’ e imprimirla por pantalla (pista: usar una función predefinida\n",
    " de Python)\n",
    "'''\n",
    "sin_a=palabra.replace('a', '')\n",
    "print(sin_a)"
   ]
  }
 ],
 "metadata": {
  "kernelspec": {
   "display_name": "Python 3",
   "language": "python",
   "name": "python3"
  },
  "language_info": {
   "codemirror_mode": {
    "name": "ipython",
    "version": 3
   },
   "file_extension": ".py",
   "mimetype": "text/x-python",
   "name": "python",
   "nbconvert_exporter": "python",
   "pygments_lexer": "ipython3",
   "version": "3.11.0"
  }
 },
 "nbformat": 4,
 "nbformat_minor": 2
}
