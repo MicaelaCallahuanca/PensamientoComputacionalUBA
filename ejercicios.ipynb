{
 "cells": [
  {
   "cell_type": "code",
   "execution_count": 3,
   "metadata": {},
   "outputs": [
    {
     "name": "stdout",
     "output_type": "stream",
     "text": [
      "¿La letra no es una vocal? False\n"
     ]
    }
   ],
   "source": [
    "# Definir la letra\n",
    "letra =input('Ingrese letra:')\n",
    "\n",
    "# Definir un conjunto de vocales\n",
    "vocales = ['a', 'e', 'i', 'o', 'u']\n",
    "\n",
    "# Usar una estructura condicional if para verificar si la letra no es una vocal\n",
    "if letra.lower() not in vocales:\n",
    "    no_es_vocal = True\n",
    "else:\n",
    "    no_es_vocal = False\n",
    "\n",
    "# Imprimir el valor de la variable\n",
    "print(\"¿La letra no es una vocal?\", no_es_vocal)\n"
   ]
  },
  {
   "cell_type": "markdown",
   "metadata": {},
   "source": [
    "Crear una función que dado un número, devuelva su valor absoluto. El valor absoluto de un número es\n",
    "el mismo número sin considerar el signo.\n",
    "Por ejemplo, el absoluto de 2 es 2 (|2| = 2) y el absoluto de -4 es 4 (|-4|=4).\n"
   ]
  },
  {
   "cell_type": "code",
   "execution_count": null,
   "metadata": {},
   "outputs": [],
   "source": [
    "def valor_absoluto(numero):\n",
    "    return abs(numero)\n",
    "\n",
    "# Ejemplos de uso\n",
    "numero1 = 2\n",
    "numero2 = -4\n",
    "\n",
    "print(\"El valor absoluto de\", numero1, \"es:\", valor_absoluto(numero1))\n",
    "print(\"El valor absoluto de\", numero2, \"es:\", valor_absoluto(numero2))\n"
   ]
  },
  {
   "cell_type": "markdown",
   "metadata": {},
   "source": [
    "Crear una función que dado un número, devuelva su valor absoluto. El valor absoluto de un número es\n",
    "el mismo número sin considerar el signo.\n",
    "Por ejemplo, el absoluto de 2 es 2 (|2| = 2) y el absoluto de -4 es 4 (|-4|=4)."
   ]
  },
  {
   "cell_type": "code",
   "execution_count": 4,
   "metadata": {},
   "outputs": [],
   "source": [
    "def valor_absoluto(numero):\n",
    "    if numero < 0:\n",
    "        return -numero\n",
    "    else:\n",
    "        return numero\n",
    "\n",
    "\n"
   ]
  },
  {
   "cell_type": "code",
   "execution_count": 5,
   "metadata": {},
   "outputs": [
    {
     "name": "stdout",
     "output_type": "stream",
     "text": [
      "El valor absoluto de 2 es: 2\n",
      "El valor absoluto de -4 es: 4\n"
     ]
    }
   ],
   "source": [
    "print(\"El valor absoluto de 2 es:\", valor_absoluto(2))\n",
    "print(\"El valor absoluto de -4 es:\", valor_absoluto(-4))"
   ]
  },
  {
   "cell_type": "code",
   "execution_count": 8,
   "metadata": {},
   "outputs": [
    {
     "name": "stdout",
     "output_type": "stream",
     "text": [
      "2\n",
      "10\n"
     ]
    }
   ],
   "source": [
    "def valor_absoluto(numero):\n",
    "    return abs(numero)\n",
    "\n",
    "# Ejemplos de uso\n",
    "print(valor_absoluto(2))\n",
    "print(valor_absoluto(-10))\n"
   ]
  },
  {
   "cell_type": "code",
   "execution_count": 10,
   "metadata": {},
   "outputs": [
    {
     "name": "stdout",
     "output_type": "stream",
     "text": [
      "7\n"
     ]
    }
   ],
   "source": [
    "def Valores (r1,total):\n",
    "    pass\n",
    "r1=int(input(\"Ingresa el numero elegido \"))\n",
    "if r1>0:\n",
    "  print(r1)\n",
    "else:\n",
    "  total=r1*-1\n",
    "  print(total)"
   ]
  },
  {
   "cell_type": "markdown",
   "metadata": {},
   "source": [
    "Crear el programa al que sea imposible ganarle en el juego de “Piedra, papel o tijera”. Cada elemento va\n",
    "a ser representado con una letra: R para piedra, P para papel y T para tijera.\n",
    "a. Hacer una función que le haga al usuario ingresar alguna de esas letras, e imprima por pantalla\n",
    "la jugada para ganarle. Por ejemplo:\n",
    "> ¡Juguemos! Ingresá piedra ( R), papel (P) o tijera (T)\n",
    "> P\n",
    "> Tijera. ¡Te gané!\n",
    "ATENCIÓN: Observar cómo se usa una frase inicial para darle a entender al usuario lo que tiene\n",
    "que hacer (en este caso ingresar alguna de las tres letras).\n",
    "b. Mostrar por pantalla el mensaje “NO vale” cuando el usuario ingresa una letra no válida\n",
    "(distinta de R, P o T)."
   ]
  },
  {
   "cell_type": "code",
   "execution_count": 15,
   "metadata": {},
   "outputs": [
    {
     "name": "stdout",
     "output_type": "stream",
     "text": [
      "Papel. ¡Te gané!\n"
     ]
    }
   ],
   "source": [
    "def juego_piedra_papel_tijera():\n",
    "    while True:\n",
    "        usuario = input(\"¡Juguemos! Ingresa piedra (R), papel (P) o tijera (T): \").upper()\n",
    "        \n",
    "        if usuario not in ['R', 'P', 'T']:\n",
    "            print(\"NO vale\")\n",
    "            continue\n",
    "        \n",
    "        if usuario == 'R':\n",
    "            print(\"Papel. ¡Te gané!\")\n",
    "        elif usuario == 'P':\n",
    "            print(\"Tijera. ¡Te gané!\")\n",
    "        elif usuario == 'T':\n",
    "            print(\"Piedra. ¡Te gané!\")\n",
    "        \n",
    "        break\n",
    "\n",
    "juego_piedra_papel_tijera()\n"
   ]
  },
  {
   "cell_type": "code",
   "execution_count": 4,
   "metadata": {},
   "outputs": [
    {
     "name": "stdout",
     "output_type": "stream",
     "text": [
      "la suma de ambos n° es: 11\n"
     ]
    }
   ],
   "source": [
    "num1 = int(input('Ingrese un n°:'))\n",
    "num2 = int(input('Ingrese un n°:'))\n",
    "sumatoria = num1 + num2\n",
    "print(f'la suma de ambos n° es:',sumatoria)"
   ]
  }
 ],
 "metadata": {
  "kernelspec": {
   "display_name": "Python 3",
   "language": "python",
   "name": "python3"
  },
  "language_info": {
   "codemirror_mode": {
    "name": "ipython",
    "version": 3
   },
   "file_extension": ".py",
   "mimetype": "text/x-python",
   "name": "python",
   "nbconvert_exporter": "python",
   "pygments_lexer": "ipython3",
   "version": "3.12.1"
  }
 },
 "nbformat": 4,
 "nbformat_minor": 2
}
