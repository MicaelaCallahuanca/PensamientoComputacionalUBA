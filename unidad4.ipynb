{
 "cells": [
  {
   "cell_type": "markdown",
   "metadata": {},
   "source": [
    "### Familiarización con secuencias"
   ]
  },
  {
   "cell_type": "code",
   "execution_count": 4,
   "metadata": {},
   "outputs": [
    {
     "name": "stdout",
     "output_type": "stream",
     "text": [
      "5\n"
     ]
    }
   ],
   "source": [
    "'''\n",
    "1. Crear una lista con los números del 1 al 10. Acceder con el índice a la posición que contiene el número\n",
    "   5, e imprimirlo por pantalla. Recordar que el índice de las listas empiezan con 0.\n",
    "'''\n",
    "lista_num = [1, 2, 3, 4, 5, 6, 7, 8, 9, 10]\n",
    "print(lista_num.index(6))"
   ]
  },
  {
   "cell_type": "code",
   "execution_count": 8,
   "metadata": {},
   "outputs": [
    {
     "name": "stdout",
     "output_type": "stream",
     "text": [
      "10\n"
     ]
    }
   ],
   "source": [
    "'''\n",
    "2. Con la lista del punto anterior, usar la función len() para averiguar su longitud, e imprimirla.\n",
    "'''\n",
    "print(len(lista_num))"
   ]
  },
  {
   "cell_type": "code",
   "execution_count": 14,
   "metadata": {},
   "outputs": [
    {
     "name": "stdout",
     "output_type": "stream",
     "text": [
      "[31, 22, 77, 20, 55, 60, 83, 18, 80, 26]\n",
      "18\n",
      "83\n"
     ]
    },
    {
     "data": {
      "text/plain": [
       "list"
      ]
     },
     "execution_count": 14,
     "metadata": {},
     "output_type": "execute_result"
    }
   ],
   "source": [
    "import random\n",
    "'''\n",
    " 3. Crear una secuencia con números distintos, y luego devolver el elemento máximo y el mínimo\n",
    "'''\n",
    "num_distintos = random.sample(range(101), 10)\n",
    "print(num_distintos)\n",
    "print(min(num_distintos))\n",
    "print(max(num_distintos))\n",
    "type(num_distintos)   #con type podemos ver que es una lista con números aleatorios"
   ]
  },
  {
   "cell_type": "code",
   "execution_count": 24,
   "metadata": {},
   "outputs": [
    {
     "name": "stdout",
     "output_type": "stream",
     "text": [
      "[18, 20, 22, 26, 31, 55, 60, 77, 80, 83]\n"
     ]
    }
   ],
   "source": [
    "'''\n",
    "4. Ordenar la secuencia del ejercicio anterior, e imprimirla por pantalla. (ver funciones de listas)\n",
    "'''\n",
    "print(sorted(num_distintos)) #sorte es una función que me permite ordenar la lista sin modificar la lista original"
   ]
  },
  {
   "cell_type": "code",
   "execution_count": 28,
   "metadata": {},
   "outputs": [
    {
     "name": "stdout",
     "output_type": "stream",
     "text": [
      "25\n"
     ]
    }
   ],
   "source": [
    "'''\n",
    " 5. Crear una tupla que guarde tu nombre y tu edad. Luego, imprimir por pantalla tu edad, accediendo al\n",
    " elemento de la tupla que corresponda.\n",
    "'''\n",
    "tlp_nombre_edad = ('Mikymika', 25)\n",
    "print(tlp_nombre_edad[1])"
   ]
  },
  {
   "cell_type": "code",
   "execution_count": 85,
   "metadata": {},
   "outputs": [],
   "source": [
    "'''\n",
    " 6. Hacer una lista con 5 nombres, y realizar las siguientes actividades con la misma:\n",
    " a. Cambiar el último elemento de la lista y cambiar el último nombre por “Juan”. Olvidándonos de\n",
    " que sabemos que tiene 5 elementos, ¿Cómo podría saber cuál es el último elemento si no sé la\n",
    " longitud?\n",
    " b. Devolver el nombre que esté a dos posiciones del final. ¿Cómo hacemos para que nos funcione\n",
    " para cualquier lista y no solo para la que tenga 5 elementos?\n",
    " c. Recorrer la lista e imprimir cada nombre por pantalla.\n",
    " d. Imprimir por pantalla la lista con 3 repeticiones, usar el operador repetición (*)\n",
    "'''\n",
    "nombres = ['Pedro', 'Pablo', 'Carlos', 'María', 'Luis'] "
   ]
  },
  {
   "cell_type": "code",
   "execution_count": 86,
   "metadata": {},
   "outputs": [
    {
     "name": "stdout",
     "output_type": "stream",
     "text": [
      "['Pedro', 'Pablo', 'Carlos', 'María', 'Juan']\n"
     ]
    }
   ],
   "source": [
    "'''\n",
    "a. Cambiar el último elemento de la lista y cambiar el último nombre por “Juan”. Olvidándonos de\n",
    " que sabemos que tiene 5 elementos, ¿Cómo podría saber cuál es el último elemento si no sé la\n",
    " longitud?\n",
    "'''\n",
    "nombres[-1] = 'Juan' #cambio el último nombre por Juan. Esto no se imprimió por pantalla.\n",
    "print(nombres)"
   ]
  },
  {
   "cell_type": "code",
   "execution_count": 87,
   "metadata": {},
   "outputs": [
    {
     "data": {
      "text/plain": [
       "'Carlos'"
      ]
     },
     "execution_count": 87,
     "metadata": {},
     "output_type": "execute_result"
    }
   ],
   "source": [
    "'''\n",
    "b. Devolver el nombre que esté a dos posiciones del final. ¿Cómo hacemos para que nos funcione\n",
    " para cualquier lista y no solo para la que tenga 5 elementos?\n",
    "'''\n",
    "def obtener_nombre_dos_posiciones_atras (lista):\n",
    "    if len(lista) >=3:\n",
    "        return lista[-3]\n",
    "    else:\n",
    "        print('La lista no tiene sufiencientes elementos')\n",
    "\n",
    "obtener_nombre_dos_posiciones_atras(nombres)"
   ]
  },
  {
   "cell_type": "code",
   "execution_count": 88,
   "metadata": {},
   "outputs": [
    {
     "name": "stdout",
     "output_type": "stream",
     "text": [
      "Pedro\n",
      "Pablo\n",
      "Carlos\n",
      "María\n",
      "Juan\n"
     ]
    }
   ],
   "source": [
    "'''\n",
    "c. Recorrer la lista e imprimir cada nombre por pantalla.\n",
    "'''\n",
    "for nombre in nombres:   \n",
    "    print(nombre)"
   ]
  },
  {
   "cell_type": "code",
   "execution_count": 90,
   "metadata": {},
   "outputs": [
    {
     "name": "stdout",
     "output_type": "stream",
     "text": [
      "['Pedro', 'Pablo', 'Carlos', 'María', 'Juan', 'Pedro', 'Pablo', 'Carlos', 'María', 'Juan', 'Pedro', 'Pablo', 'Carlos', 'María', 'Juan']\n"
     ]
    }
   ],
   "source": [
    "'''\n",
    "d. Imprimir por pantalla la lista con 3 repeticiones, usar el operador repetición (*)\n",
    "'''\n",
    "lst_repeticiones = nombres * 3\n",
    "print(lst_repeticiones)\n"
   ]
  },
  {
   "cell_type": "code",
   "execution_count": 93,
   "metadata": {},
   "outputs": [
    {
     "data": {
      "text/plain": [
       "[('Carlo', 20), ('María', 30), ('Javier', 40)]"
      ]
     },
     "execution_count": 93,
     "metadata": {},
     "output_type": "execute_result"
    }
   ],
   "source": [
    "'''\n",
    " 7. Se pide ahora crear 3 tuplas como las del ejercicio 5, con un nombre y una edad. A continuación,\n",
    " guardarlas en una lista. Pensar, ¿De que nos servirá guardar las tuplas en una lista en vez de tenerlas\n",
    " por separado?\n",
    "'''\n",
    "tlp1 = ('Carlo', 20)\n",
    "tlp2 = ('María', 30)\n",
    "tlp3 = ('Javier', 40)\n",
    "lst_tupla = tlp1, tlp2, tlp3\n",
    "list(lst_tupla)\n",
    "\n",
    "#nos sirve para organización y estructura de datos, facilidad de iteración, manipular los datos de manera flexible, pasaje de argumentos a una función en vez de muchas tuplas por separado\n",
    "#ordenar y filtrar facilmente para diversas aplicaciones"
   ]
  },
  {
   "cell_type": "markdown",
   "metadata": {},
   "source": [
    "### Ejercicios con listas y tuplas"
   ]
  },
  {
   "cell_type": "code",
   "execution_count": 108,
   "metadata": {},
   "outputs": [
    {
     "name": "stdout",
     "output_type": "stream",
     "text": [
      "País: Argentina\n",
      "Capital: Buenos Aires\n",
      "Continente: America del Sur\n",
      "\n",
      "País: Francia\n",
      "Capital: París\n",
      "Continente: Europa\n",
      "\n",
      "País: Japón\n",
      "Capital: Tokio\n",
      "Continente: Asia\n",
      "\n",
      "País: Alemania\n",
      "Capital: Berlín\n",
      "Continente: Europa\n",
      "\n",
      "País: Perú\n",
      "Capital: Lima\n",
      "Continente: America del Sur\n",
      "\n"
     ]
    }
   ],
   "source": [
    "'''\n",
    "8. Se quiere guardar información de los siguientes países: Francia, Argentina, Japón, Alemania, Perú.\n",
    " a. Crear una tupla para cada país que contenga su nombre, su capital y el continente donde se\n",
    " encuentra.\n",
    " b. Guardar las tuplas en una lista.\n",
    " c. Hacer una función que reciba por parámetros la lista, e imprima la información de cada país\n",
    " con el siguiente formato:\n",
    " País: <nombre>\n",
    " Capital: <capital>\n",
    " Continente: <continente>\n",
    " Por ejemplo:\n",
    " País: Japón\n",
    " Capital: Tokio\n",
    " Continente: Asia\n",
    "'''\n",
    "tpl_argentina = ('Argentina', 'Buenos Aires', 'America del Sur')\n",
    "tlp_francia = ('Francia', 'París', 'Europa')\n",
    "tlp_japon = ('Japón', 'Tokio', 'Asia')\n",
    "tlp_alemania = ('Alemania', 'Berlín', 'Europa')\n",
    "tlp_peru = ('Perú', 'Lima', 'America del Sur')\n",
    "tupla_paises = tpl_argentina, tlp_francia, tlp_japon, tlp_alemania, tlp_peru\n",
    "lista_tupla_paises = list(tupla_paises)\n",
    "\n",
    "def informacion_paises(lista_paises):\n",
    "    for tupla_paises in lista_paises:\n",
    "        print('País:', tupla_paises[0])\n",
    "        print('Capital:', tupla_paises[1])\n",
    "        print('Continente:', tupla_paises[2])\n",
    "        print()     #línea en blanco que separa cada país\n",
    "\n",
    "informacion_paises(lista_tupla_paises)"
   ]
  },
  {
   "cell_type": "code",
   "execution_count": 111,
   "metadata": {},
   "outputs": [
    {
     "name": "stdout",
     "output_type": "stream",
     "text": [
      "Libro:El principito, Ejemplares:1\n",
      "Libro:It, Ejemplares:1\n",
      "Libro:Sherlock Holmes, Ejemplares:2\n"
     ]
    }
   ],
   "source": [
    "'''\n",
    " 9. Una librería tiene un sistema que guarda los nombres de todos los libros que tienen en una lista de la\n",
    " siguiente forma: [“El principito”, “It”, “Sherlock Holmes”...]. Se quiere saber cuántos libros repetidos\n",
    " tienen. Hacer código que imprima para cada título, cuántos ejemplares hay.\n",
    " Aclaración: No se sabe la cantidad de elementos que tiene la lista, la lista nombrada es solo un ejemplo.\n",
    "'''\n",
    "lst_libros = ['El principito','It', 'Sherlock Holmes', 'Sherlock Holmes' ]\n",
    "def libreria_nombres_libros(lista_libros):\n",
    "    contador_libros = {}\n",
    "\n",
    "    for libro in lista_libros:\n",
    "        if libro in contador_libros:\n",
    "            contador_libros[libro] += 1\n",
    "        else:\n",
    "            contador_libros[libro] = 1\n",
    "\n",
    "    for titulo, cantidad in contador_libros.items():\n",
    "        print(f'Libro:{titulo}, Ejemplares:{cantidad}')\n",
    "libreria_nombres_libros(lst_libros)"
   ]
  },
  {
   "cell_type": "code",
   "execution_count": 122,
   "metadata": {},
   "outputs": [
    {
     "name": "stdout",
     "output_type": "stream",
     "text": [
      "[1, 4, 9, 16, 25, 36, 49, 64, 81, 100]\n"
     ]
    }
   ],
   "source": [
    "'''\n",
    "10. Crear una lista que contenga los números del 1 al 10, luego recorrerla y guardar en otra lista esos\n",
    " números elevados al cuadrado.\n",
    "'''\n",
    "lst_numeros = list(range(1, 11))\n",
    "lst_num_elevados = []\n",
    "for numeros in lst_numeros:\n",
    "    lst_num_elevados.append(numeros **2)\n",
    "print(lst_num_elevados)\n"
   ]
  },
  {
   "cell_type": "code",
   "execution_count": 142,
   "metadata": {},
   "outputs": [
    {
     "name": "stdout",
     "output_type": "stream",
     "text": [
      "Cualquier tonto escribe código que una computadora entiende. Los buenos programadores escriben código que los humanos pueden entender\n"
     ]
    }
   ],
   "source": [
    "'''\n",
    "11. Se tiene la siguiente lista de palabras: [“entender”, “pueden”, “humanos”, “los”, “que”, “código”,\n",
    " “escriben”, ”programadores”, “buenos”, “Los”, “entiende.”, “computadora”, “una”, “que”, “código”,\n",
    " “escribe”, “tonto”, “Cualquier”]. Hacer una función que reciba una lista, y devuelva un string uniendo\n",
    " las palabras desde el final de la lista hasta el principio con un “ ” (espacio) entre cada una, para formar\n",
    " la frase. (ver funciones de listas y strings).\n",
    "'''\n",
    "lst_palabras = ['entender', 'pueden', 'humanos', 'los', 'que', 'código', 'escriben', 'programadores', 'buenos',\n",
    "                'Los', 'entiende.', 'computadora', 'una', 'que', 'código', 'escribe', 'tonto', 'Cualquier' ]\n",
    "lst_palabras_reversa = lst_palabras[::-1]\n",
    "unir_palabras_reversa = ' '.join(lst_palabras_reversa)\n",
    "print(unir_palabras_reversa)"
   ]
  },
  {
   "cell_type": "code",
   "execution_count": 147,
   "metadata": {},
   "outputs": [
    {
     "name": "stdout",
     "output_type": "stream",
     "text": [
      "Materias guardadas: ['Pensamiento Computacional']\n"
     ]
    }
   ],
   "source": [
    "'''\n",
    "12. Se quiere hacer un sistema en la facultad para que un alumno pueda ir guardando las materias que va\n",
    " haciendo. Para eso, crear una función que le pregunte al usuario la materia que quiere almacenar, e ir\n",
    " guardando la información en una lista hasta que ingrese una ‘X’. ¿Qué funciones de listas no permiten\n",
    " insertar en una lista?\n",
    "'''\n",
    "def almacenar_materias():\n",
    "    materias = []\n",
    "    while True:\n",
    "        materia = input(\"Ingresa una materia (o 'X' para salir): \")\n",
    "        if materia.upper() == 'X':\n",
    "            break\n",
    "        materias.append(materia)\n",
    "    return materias\n",
    "\n",
    "materias_guardadas = almacenar_materias()\n",
    "print(\"Materias guardadas:\", materias_guardadas)\n"
   ]
  },
  {
   "cell_type": "code",
   "execution_count": 148,
   "metadata": {},
   "outputs": [
    {
     "name": "stdout",
     "output_type": "stream",
     "text": [
      "Total del primer ticket: 579\n",
      "Total del segundo ticket: 330\n",
      "Total de ambos tickets: 909\n"
     ]
    }
   ],
   "source": [
    "'''\n",
    " 13. Se tiene un ticket de supermercado que se puede representar como una lista de tuplas (producto,\n",
    " precio).\n",
    " a.\n",
    " Hacer una función que reciba la lista, calcule y devuelva el total que hay que pagar.\n",
    " b. Ahora se tienen dos tickets. Juntar ambos y volver a calcular el total.\n",
    " Une jemplo de lista puede ser: [(“Detergente”, 123), (“Jabón Líquido”, 456)] y nos tendría que devolver\n",
    " 579. (No copien y peguen la lista de la guía, porque hay caracteres que no los va a reconocer el editor\n",
    " de texto).\n",
    "'''\n",
    "def calcular_total(ticket):     #a\n",
    "    total = sum(precio for i, precio in ticket)\n",
    "    return total\n",
    "\n",
    "def calcular_total_tickets(ticket1, ticket2):       #b\n",
    "    ticket_total = ticket1 + ticket2\n",
    "    total = calcular_total(ticket_total)\n",
    "    return total\n",
    "\n",
    "ticket1 = [(\"Detergente\", 123), (\"Jabón Líquido\", 456)]\n",
    "ticket2 = [(\"Leche\", 80), (\"Pan\", 50), (\"Queso\", 200)]\n",
    "total_ticket1 = calcular_total(ticket1)\n",
    "total_ticket2 = calcular_total(ticket2)\n",
    "total_ambos_tickets = calcular_total_tickets(ticket1, ticket2)\n",
    "\n",
    "print(\"Total del primer ticket:\", total_ticket1)\n",
    "print(\"Total del segundo ticket:\", total_ticket2)\n",
    "print(\"Total de ambos tickets:\", total_ambos_tickets)\n",
    "\n"
   ]
  },
  {
   "cell_type": "markdown",
   "metadata": {},
   "source": [
    "--------"
   ]
  },
  {
   "cell_type": "markdown",
   "metadata": {},
   "source": [
    "Los ejercicios que encontrarán a continuación los harán ejercitar el uso de las secuencias, entre ellas, las listas,tuplas y strings."
   ]
  },
  {
   "cell_type": "markdown",
   "metadata": {},
   "source": [
    "### Recursos con strings"
   ]
  },
  {
   "cell_type": "code",
   "execution_count": null,
   "metadata": {},
   "outputs": [],
   "source": [
    "'''\n",
    "1. Hacer una función que reciba un string y que imprima solamente los caracteres que sean vocales.\n",
    "'''"
   ]
  },
  {
   "cell_type": "code",
   "execution_count": null,
   "metadata": {},
   "outputs": [],
   "source": [
    "'''\n",
    "2. Hacer una función que reciba un string y que lo invierta\n",
    "'''"
   ]
  },
  {
   "cell_type": "code",
   "execution_count": null,
   "metadata": {},
   "outputs": [],
   "source": [
    "'''\n",
    " 3. Hacer una función que reciba dos strings, un string y un substring, es decir, que el primero contiene al\n",
    " segundo, se pide devolver el string habiendo eliminado el substring del mismo.\n",
    " Ejemplo:\n",
    " string: “Campeones del Mundo- 2022”\n",
    " substring: “2022”\n",
    " Una vez llamada a la función el string nos debería quedar “Campeones del Mundo- ”, notar que solo\n",
    " borra el año, el espacio no.\n",
    "'''"
   ]
  },
  {
   "cell_type": "markdown",
   "metadata": {},
   "source": [
    "### Recursos con listas"
   ]
  },
  {
   "cell_type": "markdown",
   "metadata": {},
   "source": [
    "Para todos estos ejercicios se recomienda fuertemente tener a mano la documentación de los métodos de\n",
    "listas."
   ]
  },
  {
   "cell_type": "code",
   "execution_count": null,
   "metadata": {},
   "outputs": [],
   "source": [
    "'''\n",
    "4. Un chef está armando una lista de supermercado con todos los ingredientes que hay que comprar. Sólo\n",
    " quiere agregar un ingrediente a la lista si no lo escribió antes, así no tiene repetidos.\n",
    " Hacer un programa que inserte un nuevo elemento en una lista de strings, solamente si el elemento\n",
    " que se desea insertar no se encuentra en la lista. La lista de ingredientes la podemos pensar como una\n",
    " lista de strings.\n",
    " Ejemplo:\n",
    " ingredientes: [“tomate”, “queso”, “cebolla”, “huevo”]\n",
    " ingrediente a agregar: “orégano”\n",
    " La lista de ingredientes debería quedar [“tomate”, “queso”, “cebolla”, “huevo”, “orégano”]\n",
    " En cambio, si el ingrediente a agregar es “queso” la lista debería quedar igual.\n",
    "'''"
   ]
  },
  {
   "cell_type": "code",
   "execution_count": null,
   "metadata": {},
   "outputs": [],
   "source": [
    "'''\n",
    " 5. Agustina está jugando a las cartas con sus amigos. A ella le gusta tener las cartas de su mano bien\n",
    " ordenadas. Esto significa que cada vez que tiene que agarrar una nueva carta, la quiere agregar a su\n",
    " manoenellugar indicado para no romper el orden.\n",
    " Si se tiene una lista de enteros ordenadas de mayor a menor. Hacer una función que según esta lista\n",
    " inserte un nuevo entero, manteniendo el orden.\n",
    " Podemos pensar la lista de cartas como números enteros.\n",
    " Ejemplo:\n",
    " cartas: [1, 4, 6, 8]\n",
    " carta nueva: 5\n",
    " La lista de cartas debería quedar: [1, 4, 5, 6, 8]\n",
    " Tratar de pensar una solución sin usar el método sort. (no es obligatorio).\n",
    "'''"
   ]
  },
  {
   "cell_type": "code",
   "execution_count": null,
   "metadata": {},
   "outputs": [],
   "source": [
    "'''\n",
    " 6. Santiago armó una lista con el pedido de empanadas de su familia pero ahora quiere saber la cantidad\n",
    " de gustos diferentes que tiene que pedir.\n",
    "  Podemos pensar la lista de empanadas como una lista de strings, entonces deberíamos devolver la\n",
    " cantidad de strings diferentes que hay en una lista.\n",
    "'''"
   ]
  },
  {
   "cell_type": "code",
   "execution_count": null,
   "metadata": {},
   "outputs": [],
   "source": [
    "'''\n",
    "7. Manuel y su pareja armaron una lista numerada con las actividades de mantenimiento de la casa.\n",
    " Decidieron dividirse las tareas, a Manuel le tocó hacer todas las actividades con número par, por eso\n",
    " necesitamos hacer una función que reciba una lista de enteros, y devuelva otra lista que solamente\n",
    " contenga números pares, que vienen a ser las tareas de Manuel.\n",
    "'''"
   ]
  },
  {
   "cell_type": "markdown",
   "metadata": {},
   "source": [
    "### Recursos con tuplas"
   ]
  },
  {
   "cell_type": "code",
   "execution_count": null,
   "metadata": {},
   "outputs": [],
   "source": [
    "'''\n",
    "Un matrimonio está organizando una fiesta y tiene que armar una lista de invitados. Cada uno tiene su propia\n",
    "tupla y guarda en ella a todos los que quiere invitar\n",
    "'''"
   ]
  },
  {
   "cell_type": "code",
   "execution_count": null,
   "metadata": {},
   "outputs": [],
   "source": [
    "'''\n",
    " 8. Si alguien cancela tienen que sacarlo de la tupla.\n",
    " Hacer una función que reciba la tupla y un nombre, y devuelva una nueva tupla sin el nombre pasado\n",
    " por parámetro.\n",
    " Las tuplas son inmutables, entonces ¿Cómo podemos hacer para “eliminar” un elemento de una tupla?\n",
    " Recordemos que las tuplas tienen definido el operador +, pero no el operador-.\n",
    "'''"
   ]
  },
  {
   "cell_type": "code",
   "execution_count": null,
   "metadata": {},
   "outputs": [],
   "source": [
    "'''\n",
    "9. Cuando ya tienen a todos los invitados tienen que juntar sus tuplas, para eso se necesita una función\n",
    " que a partir de dos tuplas cree una sola que sea la combinación de ambas tuplas.\n",
    "'''"
   ]
  }
 ],
 "metadata": {
  "kernelspec": {
   "display_name": "Python 3",
   "language": "python",
   "name": "python3"
  },
  "language_info": {
   "codemirror_mode": {
    "name": "ipython",
    "version": 3
   },
   "file_extension": ".py",
   "mimetype": "text/x-python",
   "name": "python",
   "nbconvert_exporter": "python",
   "pygments_lexer": "ipython3",
   "version": "3.11.0"
  }
 },
 "nbformat": 4,
 "nbformat_minor": 2
}
