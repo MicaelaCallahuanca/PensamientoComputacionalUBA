{
 "cells": [
  {
   "cell_type": "markdown",
   "metadata": {},
   "source": [
    "### EXPRESIONES"
   ]
  },
  {
   "cell_type": "markdown",
   "metadata": {},
   "source": [
    "Para esta sección de los ejercicios, revisar los temas de operadores lógicos y de comparación."
   ]
  },
  {
   "cell_type": "code",
   "execution_count": 22,
   "metadata": {},
   "outputs": [
    {
     "name": "stdout",
     "output_type": "stream",
     "text": [
      "número 1 es más grande que número 2?: False\n"
     ]
    }
   ],
   "source": [
    "'''\n",
    "1. Escribir la expresión para saber si un número es más grande que otro. Guardarla en una variable de tipo\n",
    "bool e imprimirla por pantalla para ver su valor\n",
    "'''\n",
    "num1 = int(input('Ingrese número:'))\n",
    "num2 = int(input('Ingrese número:'))\n",
    "es_mas_grande = bool(num1 > num2)\n",
    "print('número 1 es más grande que número 2?:', es_mas_grande)\n"
   ]
  },
  {
   "cell_type": "code",
   "execution_count": 10,
   "metadata": {},
   "outputs": [
    {
     "name": "stdout",
     "output_type": "stream",
     "text": [
      "La letra es vocal? True\n"
     ]
    }
   ],
   "source": [
    "'''\n",
    "2. Repetir el punto anterior pero con la expresión que determina que una letra NO es vocal\n",
    "'''\n",
    "letra = input('Ingrese una letra:')\n",
    "no_es_vocal = bool(letra.lower() in {'a', 'e', 'i', 'o', 'u'})\n",
    "print('La letra es vocal?', no_es_vocal)"
   ]
  },
  {
   "cell_type": "code",
   "execution_count": 12,
   "metadata": {},
   "outputs": [
    {
     "name": "stdout",
     "output_type": "stream",
     "text": [
      "El número es par y menor  a 10? False\n"
     ]
    }
   ],
   "source": [
    "'''\n",
    "3. Repetir pero para la expresión que permite saber si un número es par y menor a 10.\n",
    "'''\n",
    "num = int(input('Ingrese un número:'))\n",
    "menos_y_par = bool(num %2 == 0 and num < 10)\n",
    "print('El número es par y menor  a 10?', menos_y_par)"
   ]
  },
  {
   "cell_type": "markdown",
   "metadata": {},
   "source": [
    "### ESTRUCTURA DE CONTROL CONDICIONALES"
   ]
  },
  {
   "cell_type": "code",
   "execution_count": 25,
   "metadata": {},
   "outputs": [
    {
     "data": {
      "text/plain": [
       "4"
      ]
     },
     "execution_count": 25,
     "metadata": {},
     "output_type": "execute_result"
    }
   ],
   "source": [
    "'''\n",
    "4. Crear una función que dado un número, devuelva su valor absoluto. El valor absoluto de un número es\n",
    "el mismo número sin considerar el signo.\n",
    "Por ejemplo, el absoluto de 2 es 2 (|2| = 2) y el absoluto de -4 es 4 (|-4|=4)\n",
    "'''\n",
    "def valor_absoluto(numero):\n",
    "    return abs(numero)\n",
    "\n",
    "valor_absoluto(-4)  #ingresé -4 debería devolver 4"
   ]
  },
  {
   "cell_type": "code",
   "execution_count": 3,
   "metadata": {},
   "outputs": [
    {
     "name": "stdout",
     "output_type": "stream",
     "text": [
      "¡Juguemos! Ingresa piedra (R), papel (P) o tijera (T)\n",
      "La máquina eligió: R\n",
      "¡La máquina gana!\n"
     ]
    }
   ],
   "source": [
    "'''\n",
    " 5. Crear el programa al que sea imposible ganarle en el juego de “Piedra, papel o tijera”. Cada elemento va\n",
    " a ser representado con una letra: R para piedra, P para papel y T para tijera.\n",
    " \n",
    " a. Hacer una función que le haga al usuario ingresar alguna de esas letras, e imprima por pantalla\n",
    " la jugada para ganarle. Por ejemplo:\n",
    " > ¡Juguemos! Ingresá piedra ( R), papel (P) o tijera (T)\n",
    " > P\n",
    " > Tijera. ¡Te gané!\n",
    " ATENCIÓN: Observar cómo se usa una frase inicial para darle a entender al usuario lo que tiene\n",
    " que hacer (en este caso ingresar alguna de las tres letras).\n",
    " b. Mostrar por pantalla el mensaje “NO vale” cuando el usuario ingresa una letra no válida\n",
    " (distinta de R, P o T).\n",
    "'''\n",
    "import random\n",
    "\n",
    "def jugar_piedra_papel_tijera():\n",
    "    opciones = ['R', 'P', 'T']\n",
    "    print(\"¡Juguemos! Ingresa piedra (R), papel (P) o tijera (T)\")\n",
    "    opcion_usuario = input(\"> \").upper()\n",
    "\n",
    "    if opcion_usuario not in opciones:      # Verifica si la opción del usuario es válida\n",
    "        print(\"NO vale\")\n",
    "        return\n",
    "\n",
    "    opcion_maquina = random.choice(opciones)        # Elección aleatoria de la máquina\n",
    "    print(f\"La máquina eligió: {opcion_maquina}\")\n",
    "\n",
    "    \n",
    "    if opcion_usuario == opcion_maquina:        # Determina el resultado del juego\n",
    "        print(\"¡Empate!\")\n",
    "    elif (opcion_usuario == 'R' and opcion_maquina == 'T') or \\\n",
    "         (opcion_usuario == 'P' and opcion_maquina == 'R') or \\\n",
    "         (opcion_usuario == 'T' and opcion_maquina == 'P'):\n",
    "        print(\"¡Ganaste!\")\n",
    "    else:\n",
    "        print(\"¡La máquina gana!\")\n",
    "\n",
    "\n",
    "jugar_piedra_papel_tijera()     # Llama a la función para comenzar el juego\n",
    "\n"
   ]
  },
  {
   "cell_type": "code",
   "execution_count": 19,
   "metadata": {},
   "outputs": [
    {
     "name": "stdout",
     "output_type": "stream",
     "text": [
      "La suma es menor que 100 . Falta 20 para llegar al limite\n"
     ]
    }
   ],
   "source": [
    "'''\n",
    " 6. Escribir código que dado dos enteros, determine si la suma de ambos da menos que 100. Si la suma de\n",
    " ambos es menor a 100, calcular cuánto falta para llegar a 100 y mostrar por pantalla un mensaje con\n",
    " ese valor. Si la suma es mayor a 100, mostrar un mensaje diciendo “Llega a 100”.\n",
    " Extra: ¿Cómo harían para que el programa quede generalizado para cualquier límite, a elección del\n",
    " usuario, y no solo para 100?.\n",
    "'''\n",
    "def suma_dos_numeros (num1, num2, limite):  #agregué un parámetro llamado límite para poder usarlo con el usuario\n",
    "    suma = num1 + num2\n",
    "    if suma < limite :\n",
    "        falta = limite - suma\n",
    "        print ('La suma es menor que', limite,'. Falta',falta,'para llegar al limite')\n",
    "    elif suma >= limite :\n",
    "        print ('Llega a', limite)\n",
    "    else :\n",
    "        print('Llega a', limite)\n",
    "suma_dos_numeros(10, 70, 100)\n"
   ]
  },
  {
   "cell_type": "code",
   "execution_count": 23,
   "metadata": {},
   "outputs": [
    {
     "name": "stdout",
     "output_type": "stream",
     "text": [
      "La suma es menor que 100 . Falta 30 para llegar al limite\n"
     ]
    }
   ],
   "source": [
    "limite_usuario = int(input(\"Ingresa un límite: \"))\n",
    "suma_dos_numeros(num1, num2, limite_usuario)    #usé los datos de las variables del ejercicio 1"
   ]
  },
  {
   "cell_type": "code",
   "execution_count": 4,
   "metadata": {},
   "outputs": [
    {
     "name": "stdout",
     "output_type": "stream",
     "text": [
      "Error\n",
      "Primavera\n",
      "Otoño\n",
      "Error\n",
      "Verano\n",
      "Invierno\n"
     ]
    }
   ],
   "source": [
    "'''\n",
    " 7. Se tienen letras para representar las estaciones del año:\n",
    " ● V para verano\n",
    " ● O para otoño\n",
    " ● I para invierno\n",
    " ● P para primavera\n",
    " Crear una función que dada una letra, imprima por pantalla la estación del año que representa (es\n",
    " decir, si se ingresa V se mostrará por pantalla el mensaje “Verano”). En caso de no representar a\n",
    " ninguna estación mostrar un mensaje que diga “error”. Probar la función creada llamándola con A, P, O,\n",
    " B, V e I\n",
    "'''\n",
    "def estacion_del_anio(letra):\n",
    "    if letra == 'V':\n",
    "        print(\"Verano\")\n",
    "    elif letra == 'O':\n",
    "        print(\"Otoño\")\n",
    "    elif letra == 'I':\n",
    "        print(\"Invierno\")\n",
    "    elif letra == 'P':\n",
    "        print(\"Primavera\")\n",
    "    else:\n",
    "        print(\"Error\")\n",
    "\n",
    "# Probando la función con las letras dadas\n",
    "letras = ['A', 'P', 'O', 'B', 'V', 'I']\n",
    "for letra in letras:\n",
    "    estacion_del_anio(letra)"
   ]
  },
  {
   "cell_type": "markdown",
   "metadata": {},
   "source": [
    "### ESTRUCTURAS DE CONTROL ITERATIVAS"
   ]
  },
  {
   "cell_type": "code",
   "execution_count": 17,
   "metadata": {},
   "outputs": [
    {
     "name": "stdout",
     "output_type": "stream",
     "text": [
      "1\n",
      "2\n",
      "3\n",
      "4\n",
      "5\n",
      "6\n",
      "7\n",
      "8\n",
      "9\n",
      "10\n"
     ]
    }
   ],
   "source": [
    "'''\n",
    " 8. Se quiere hacer un programa para enseñar a unos niños a contar. Crear una función que reciba un\n",
    " número entero e imprima por pantalla los números del 1 hasta ese número con la estructura de control\n",
    " iterativa for.\n",
    "'''\n",
    "def aprender_a_contar (num):\n",
    "    for i in range(1, num+1):\n",
    "        print(i)\n",
    "num = int(input('Ingrese un n°:'))\n",
    "aprender_a_contar(num)"
   ]
  },
  {
   "cell_type": "code",
   "execution_count": 25,
   "metadata": {},
   "outputs": [
    {
     "name": "stdout",
     "output_type": "stream",
     "text": [
      "10 * 1 = 10\n",
      "10 * 2 = 20\n",
      "10 * 3 = 30\n",
      "10 * 4 = 40\n",
      "10 * 5 = 50\n",
      "10 * 6 = 60\n",
      "10 * 7 = 70\n",
      "10 * 8 = 80\n",
      "10 * 9 = 90\n",
      "10 * 10 = 100\n"
     ]
    }
   ],
   "source": [
    "'''\n",
    "9. Se quiere mejorar el programa para enseñar matemáticas pensado en el ejercicio anterior. Ahora se\n",
    " necesita una funcionalidad que permita a los niños aprender las tablas. Crear una función que reciba un\n",
    " número entero e imprima por pantalla la tabla de ese número del 1 al 10.\n",
    "'''\n",
    "def aprender_tablas(numb):\n",
    "    for i in range(1, 11):\n",
    "        multiplicar = numb * i\n",
    "        print(f'{numb} * {i} = {multiplicar}')\n",
    "numb = int(input('Ingrese un número entero para la tabla:'))\n",
    "aprender_tablas(numb)"
   ]
  },
  {
   "cell_type": "code",
   "execution_count": 33,
   "metadata": {},
   "outputs": [
    {
     "name": "stdout",
     "output_type": "stream",
     "text": [
      "Que los cumplas feliz\n",
      "Que los cumplas feliz\n",
      "Que los cumplas feliz\n",
      "Que los cumplas feliz\n",
      "Que los cumplas feliz\n"
     ]
    }
   ],
   "source": [
    "'''\n",
    "10. Crear una función que simule un cumpleaños: que dado un entero imprima “Que los cumplas feliz” esa\n",
    " cantidad de veces.\n",
    "'''\n",
    "def cumpleanios(cant):\n",
    "    for i in range(cant):\n",
    "        #cant=+1\n",
    "        print('Que los cumplas feliz')\n",
    "cant = int(input('Ingrese un n° entero para repetir el mensaje:'))\n",
    "cumpleanios(cant)"
   ]
  },
  {
   "cell_type": "code",
   "execution_count": 7,
   "metadata": {},
   "outputs": [
    {
     "name": "stdout",
     "output_type": "stream",
     "text": [
      "Falta por pagar 40 pesos.\n",
      "Falta por pagar 10 pesos.\n",
      "Falta por pagar 9 pesos.\n",
      "Falta por pagar 4 pesos.\n",
      "Falta por pagar 2 pesos.\n",
      "No tiene deudas pendientes.\n"
     ]
    }
   ],
   "source": [
    "'''\n",
    " 11. En un almacén están buscando la forma de hacer los cobros más automáticamente. Para esto, se nos\n",
    " pide crear una función que reciba un número entero que representa lo que hay que cobrar, le pida al\n",
    " usuario ingresar un monto, y se vaya mostrando por pantalla cuánto falta para completar el pago.\n",
    " Repetir este proceso hasta que la deuda sea 0 o menor. Por ejemplo, si se recibe el monto 30:\n",
    " > El importe a pagar es de 30 pesos. Por favor, ingrese un monto.\n",
    " > 10\n",
    " > El importe a pagar es de 20 pesos. Por favor, ingrese un monto.\n",
    " > 15\n",
    " > El importe a pagar es de 5 pesos. Por favor, ingrese un monto.\n",
    " > 5\n",
    "'''\n",
    "def cobros_automaticos(cobro):\n",
    "    for i in range(cobro):\n",
    "        monto = int(input('Ingrese un monto: '))\n",
    "        if monto > 0:\n",
    "            cobro -= monto\n",
    "            if cobro <= 0:\n",
    "                print('No tiene deudas pendientes.')\n",
    "                break\n",
    "            else:\n",
    "                print('Falta por pagar', cobro, 'pesos.')\n",
    "        else:\n",
    "            print('Por favor, ingrese un monto válido mayor que cero.')\n",
    "\n",
    "cobro = int(input(\"Ingrese el monto total a cobrar: \"))\n",
    "cobros_automaticos(cobro)\n"
   ]
  },
  {
   "cell_type": "markdown",
   "metadata": {},
   "source": [
    "### ESTRUCTURAS DE CONTROL CONDICIONALES E ITERATIVAS"
   ]
  },
  {
   "cell_type": "code",
   "execution_count": 13,
   "metadata": {},
   "outputs": [
    {
     "name": "stdout",
     "output_type": "stream",
     "text": [
      "El número 1 es impar\n",
      "El número 2 es par\n",
      "El número 3 es impar\n",
      "El número 4 es par\n",
      "El número 5 es impar\n",
      "El número 6 es par\n",
      "El número 7 es impar\n",
      "El número 8 es par\n",
      "El número 9 es impar\n",
      "El número 10 es par\n",
      "El número 11 es impar\n",
      "El número 12 es par\n",
      "El número 13 es impar\n",
      "El número 14 es par\n",
      "El número 15 es impar\n",
      "El número 16 es par\n",
      "El número 17 es impar\n",
      "El número 18 es par\n",
      "El número 19 es impar\n",
      "El número 20 es par\n"
     ]
    }
   ],
   "source": [
    "'''\n",
    "12. Escribir código que recorra los números del 1 al 20 y determine para cada uno si es par o impar,\n",
    " imprimiendo un mensaje por pantalla en cada caso. Es decir, el output esperado sería:\n",
    " > El número 1 es impar.\n",
    " > El número 2 es par.\n",
    " …\n",
    " > El número 20 es par\n",
    "'''\n",
    "for number in range(1, 21):\n",
    "    if number %2 == 0:\n",
    "        print('El número', number, 'es par')\n",
    "    else:\n",
    "        print('El número', number, 'es impar')"
   ]
  },
  {
   "cell_type": "code",
   "execution_count": 16,
   "metadata": {},
   "outputs": [
    {
     "name": "stdout",
     "output_type": "stream",
     "text": [
      "Ingresá 3 fichas (F) para comenzar\n",
      "Ingresá 2 fichas (F) para comenzar\n",
      "Ingresá 1 fichas (F) para comenzar\n",
      "Por favor solamente ingrese fichas reales (F)\n",
      "Ingresá 1 fichas (F) para comenzar\n",
      "¡A jugar!\n"
     ]
    }
   ],
   "source": [
    "'''\n",
    "13. Se tiene una máquina de sacar juguetes que funciona cuando se ingresa una determinada cantidad de\n",
    " fichas, y se quiere hacer una función que imite ese comportamiento.\n",
    "  a. Hacer una función que reciba un número que represente el precio de la máquina, e imprima\n",
    " por pantalla “Ingresá x fichas para comenzar” hasta que se hayan ingresado esa cantidad de\n",
    " letras F (que representan una ficha), y luego “¡A jugar!” cuando se hayan ingresado todas las\n",
    " fichas necesarias. Por ejemplo, si la función recibe 3, debería tener el siguiente\n",
    " comportamiento:\n",
    " > Ingresá 3 fichas para comenzar\n",
    " > F\n",
    " > Ingresá 3 fichas para comenzar\n",
    " > F\n",
    " > Ingresá 3 fichas para comenzar\n",
    " > B\n",
    " > Ingresá 3 fichas para comenzar\n",
    " > F\n",
    " > ¡A jugar!\n",
    " ATENCIÓN: notar cómo cuando se ingresa una letra distinta de F, esta se ignora a la hora de contar la\n",
    " cantidad de fichas que fueron ingresadas.\n",
    " b. Ahorasequiere que se vaya mostrando por pantalla, cuántas fichas FALTAN ingresar para\n",
    " empezar a jugar Es decir:\n",
    " > Ingresá 3 fichas (F) para comenzar\n",
    " > F\n",
    " > Ingresá 2 fichas (F) para comenzar\n",
    " > F\n",
    " > Ingresá 1 fichas (F) para comenzar\n",
    " > B\n",
    " > Ingresá 1 fichas (F) para comenzar\n",
    " > F\n",
    " > ¡A jugar!\n",
    " c. Agregar a la función el mensaje de error “Por favor solamente ingrese fichas reales (F)” cuando\n",
    " se recibe una letra distinta de F.\n",
    "'''\n",
    "def maquina_juguetes(precio):\n",
    "    fichas_ingresadas = 0\n",
    "\n",
    "    while fichas_ingresadas < precio:\n",
    "        faltantes = precio - fichas_ingresadas\n",
    "        if faltantes == precio:\n",
    "            print(f\"Ingresá {precio} fichas (F) para comenzar\")\n",
    "        else:\n",
    "            print(f\"Ingresá {faltantes} fichas (F) para comenzar\")\n",
    "\n",
    "        ficha = input().upper()\n",
    "        if ficha == 'F':\n",
    "            fichas_ingresadas += 1\n",
    "        else:\n",
    "            print(\"Por favor solamente ingrese fichas reales (F)\")\n",
    "\n",
    "    print(\"¡A jugar!\")\n",
    "\n",
    "# Probando la función con un precio de 3 fichas\n",
    "precio = 3\n",
    "maquina_juguetes(precio)\n"
   ]
  },
  {
   "cell_type": "code",
   "execution_count": 17,
   "metadata": {},
   "outputs": [],
   "source": [
    "'''\n",
    "14. Crear una función que reciba un número entero e imprima los números primos entre 0 y el número\n",
    " ingresado.\n",
    " AYUDA: un número es primo cuando solamente es divisible por sí mismo y por 1, es decir que para ver\n",
    " si es primo hay que ver que el módulo (%) de ese número con los anteriores hasta el 1 (sin incluirlo) sea\n",
    " distinto de 0, o sea que no sea divisible\n",
    "'''\n",
    "def primos (number):\n",
    "    for number in range(0, number+1):\n",
    "        if number // number or number // 0:\n",
    "            print('El número', number, 'es primo')"
   ]
  }
 ],
 "metadata": {
  "kernelspec": {
   "display_name": "Python 3",
   "language": "python",
   "name": "python3"
  },
  "language_info": {
   "codemirror_mode": {
    "name": "ipython",
    "version": 3
   },
   "file_extension": ".py",
   "mimetype": "text/x-python",
   "name": "python",
   "nbconvert_exporter": "python",
   "pygments_lexer": "ipython3",
   "version": "3.11.0"
  }
 },
 "nbformat": 4,
 "nbformat_minor": 2
}
